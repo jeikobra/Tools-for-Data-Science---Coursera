{
 "cells": [
  {
   "cell_type": "markdown",
   "id": "1b79f1ba",
   "metadata": {},
   "source": [
    "# Data Science Tools and Ecosystem"
   ]
  },
  {
   "cell_type": "markdown",
   "id": "2d5c055a",
   "metadata": {},
   "source": [
    "In this notebook, Data Science Tools and Ecosystem are summarized.\n",
    "\n",
    "**Objectives:**\n",
    "\n",
    "-  List popular languages for Data Science\n",
    "-  List commonly used Libraries for Data Science\n",
    "-  List popular Open Source Tools for Data Science\n",
    "-  Arithmetic Expressions in Python"
   ]
  },
  {
   "cell_type": "markdown",
   "id": "4a962522",
   "metadata": {},
   "source": [
    "Some of the popular languages that Data Scientists use are:\n",
    "    1. Python\n",
    "    2. R\n",
    "    3. SQL\n"
   ]
  },
  {
   "cell_type": "markdown",
   "id": "d3e6e49c",
   "metadata": {},
   "source": [
    "Some of the commonly used libraries used by Data Scientists include: 1. TensorFlow 2. NumPy 3. SciPy 4. Pandas 5. Matplotlib 6. Keras 7. SciKit-Learn 8. PyTorch"
   ]
  },
  {
   "cell_type": "markdown",
   "id": "9f783b95",
   "metadata": {},
   "source": [
    "|Data Science Tools|\n",
    "|---|\n",
    "|RStudio|\n",
    "|Apache Spark|\n",
    "|TensorFlow|"
   ]
  },
  {
   "cell_type": "markdown",
   "id": "ef625557",
   "metadata": {},
   "source": [
    "### Below are a few examples of evaluating arithmetic expressions in Python"
   ]
  },
  {
   "cell_type": "code",
   "execution_count": 3,
   "id": "1005ae19",
   "metadata": {},
   "outputs": [
    {
     "data": {
      "text/plain": [
       "17"
      ]
     },
     "execution_count": 3,
     "metadata": {},
     "output_type": "execute_result"
    }
   ],
   "source": [
    "(3*4)+5\n",
    "# This a simple arithmetic expression to mutiply then add integers"
   ]
  },
  {
   "cell_type": "code",
   "execution_count": 21,
   "id": "5cbdd623",
   "metadata": {},
   "outputs": [
    {
     "name": "stdout",
     "output_type": "stream",
     "text": [
      "3.33\n"
     ]
    }
   ],
   "source": [
    "minutes = 200\n",
    "\n",
    "hours = minutes / 60\n",
    "#This will convert 200 minutes to hours by diving by 60\n",
    "print(round(hours,2))"
   ]
  },
  {
   "cell_type": "markdown",
   "id": "8128e996",
   "metadata": {},
   "source": [
    "## Author\n",
    "Jacob B. Solaña"
   ]
  },
  {
   "cell_type": "code",
   "execution_count": null,
   "id": "d53249e0",
   "metadata": {},
   "outputs": [],
   "source": []
  }
 ],
 "metadata": {
  "kernelspec": {
   "display_name": "Python 3 (ipykernel)",
   "language": "python",
   "name": "python3"
  },
  "language_info": {
   "codemirror_mode": {
    "name": "ipython",
    "version": 3
   },
   "file_extension": ".py",
   "mimetype": "text/x-python",
   "name": "python",
   "nbconvert_exporter": "python",
   "pygments_lexer": "ipython3",
   "version": "3.11.4"
  }
 },
 "nbformat": 4,
 "nbformat_minor": 5
}
